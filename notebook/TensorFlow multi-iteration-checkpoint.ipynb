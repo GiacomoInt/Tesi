{
 "cells": [
  {
   "cell_type": "markdown",
   "id": "demographic-deviation",
   "metadata": {},
   "source": [
    "APIs are described at https://mulearn.readthedocs.io/.\n",
    "\n"
   ]
  },
  {
   "cell_type": "code",
   "execution_count": 1,
   "id": "alive-awareness",
   "metadata": {},
   "outputs": [
    {
     "data": {
      "text/html": [
       "<div>\n",
       "<style scoped>\n",
       "    .dataframe tbody tr th:only-of-type {\n",
       "        vertical-align: middle;\n",
       "    }\n",
       "\n",
       "    .dataframe tbody tr th {\n",
       "        vertical-align: top;\n",
       "    }\n",
       "\n",
       "    .dataframe thead th {\n",
       "        text-align: right;\n",
       "    }\n",
       "</style>\n",
       "<table border=\"1\" class=\"dataframe\">\n",
       "  <thead>\n",
       "    <tr style=\"text-align: right;\">\n",
       "      <th></th>\n",
       "      <th>Sepal length</th>\n",
       "      <th>Sepal width</th>\n",
       "      <th>Petal length</th>\n",
       "      <th>Petal width</th>\n",
       "      <th>Class</th>\n",
       "    </tr>\n",
       "  </thead>\n",
       "  <tbody>\n",
       "    <tr>\n",
       "      <th>0</th>\n",
       "      <td>5.1</td>\n",
       "      <td>3.5</td>\n",
       "      <td>1.4</td>\n",
       "      <td>0.2</td>\n",
       "      <td>Setosa</td>\n",
       "    </tr>\n",
       "    <tr>\n",
       "      <th>1</th>\n",
       "      <td>4.9</td>\n",
       "      <td>3.0</td>\n",
       "      <td>1.4</td>\n",
       "      <td>0.2</td>\n",
       "      <td>Setosa</td>\n",
       "    </tr>\n",
       "    <tr>\n",
       "      <th>2</th>\n",
       "      <td>4.7</td>\n",
       "      <td>3.2</td>\n",
       "      <td>1.3</td>\n",
       "      <td>0.2</td>\n",
       "      <td>Setosa</td>\n",
       "    </tr>\n",
       "    <tr>\n",
       "      <th>3</th>\n",
       "      <td>4.6</td>\n",
       "      <td>3.1</td>\n",
       "      <td>1.5</td>\n",
       "      <td>0.2</td>\n",
       "      <td>Setosa</td>\n",
       "    </tr>\n",
       "    <tr>\n",
       "      <th>4</th>\n",
       "      <td>5.0</td>\n",
       "      <td>3.6</td>\n",
       "      <td>1.4</td>\n",
       "      <td>0.2</td>\n",
       "      <td>Setosa</td>\n",
       "    </tr>\n",
       "  </tbody>\n",
       "</table>\n",
       "</div>"
      ],
      "text/plain": [
       "   Sepal length  Sepal width  Petal length  Petal width   Class\n",
       "0           5.1          3.5           1.4          0.2  Setosa\n",
       "1           4.9          3.0           1.4          0.2  Setosa\n",
       "2           4.7          3.2           1.3          0.2  Setosa\n",
       "3           4.6          3.1           1.5          0.2  Setosa\n",
       "4           5.0          3.6           1.4          0.2  Setosa"
      ]
     },
     "execution_count": 1,
     "metadata": {},
     "output_type": "execute_result"
    }
   ],
   "source": [
    "import sklearn.datasets as ds\n",
    "import pandas as pd\n",
    "import numpy as np\n",
    "\n",
    "#carico il dataset.\n",
    "iris_X, iris_y = ds.load_iris(return_X_y=True)  # In iris_X matrice con i quattro valori per oggetto\n",
    "                                                # In iris_y etichette rispettive (0,1,2)\n",
    "    \n",
    "labels = (\"Setosa\", \"Versicolor\", \"Virginica\") # Creo le etichette Setosa, Versicolor e Virginica\n",
    "\n",
    "#creo dataframe con le etichette per i valori in iris_X \n",
    "df = pd.DataFrame(iris_X, columns=[\"Sepal length\", \"Sepal width\",\n",
    "                                   \"Petal length\", \"Petal width\"])\n",
    "\n",
    "#per i valori di iris_y associo le rispettive etichette\n",
    "df['Class'] = iris_y\n",
    "df['Class'] = df['Class'].map(lambda c: labels[c])\n",
    "\n",
    "df.head() #ritorna le prime 5 righe"
   ]
  },
  {
   "cell_type": "markdown",
   "id": "complimentary-ghost",
   "metadata": {},
   "source": [
    "### Setosa Prove\n",
    "\n",
    "È il più facile da apprendere\n"
   ]
  },
  {
   "cell_type": "code",
   "execution_count": 2,
   "id": "naked-insured",
   "metadata": {},
   "outputs": [],
   "source": [
    "#creo dataset iris_setosa dove le etichette 0 diventano 1 e le altre a 0\n",
    "\n",
    "iris_setosa = iris_y.copy()\n",
    "iris_setosa[iris_setosa != 0] = 2\n",
    "iris_setosa[iris_setosa == 0] = 1\n",
    "iris_setosa[iris_setosa == 2] = 0"
   ]
  },
  {
   "cell_type": "code",
   "execution_count": 3,
   "id": "rocky-drilling",
   "metadata": {},
   "outputs": [
    {
     "data": {
      "text/plain": [
       "FuzzyInductor(c=1, k=GaussianKernel(), f=ExponentialFuzzifier(), solver=GurobiSolver())"
      ]
     },
     "execution_count": 3,
     "metadata": {},
     "output_type": "execute_result"
    }
   ],
   "source": [
    "# Gurobi prova\n",
    "\n",
    "from mulearn import FuzzyInductor\n",
    "\n",
    "fi = FuzzyInductor()\n",
    "fi.fit(iris_X, iris_setosa)"
   ]
  },
  {
   "cell_type": "code",
   "execution_count": 4,
   "id": "plain-fellow",
   "metadata": {},
   "outputs": [
    {
     "name": "stdout",
     "output_type": "stream",
     "text": [
      "2.2172091754548588e-07\n"
     ]
    }
   ],
   "source": [
    "from sklearn.metrics import mean_squared_error\n",
    "\n",
    "rmse_gurobi = mean_squared_error(iris_setosa, fi.predict(iris_X), squared=False)\n",
    "\n",
    "print(rmse_gurobi)"
   ]
  },
  {
   "cell_type": "code",
   "execution_count": 5,
   "id": "ceramic-congress",
   "metadata": {},
   "outputs": [],
   "source": [
    "#TensoFlow prova\n",
    "\n",
    "from mulearn.optimization import TensorFlowSolver\n",
    "\n",
    "n_iter  = 100\n",
    "\n",
    "try:\n",
    "    fi = FuzzyInductor(solver=TensorFlowSolver(n_iter = n_iter))\n",
    "except (ModuleNotFoundError, ValueError):\n",
    "    print('Tensorflow not available')"
   ]
  },
  {
   "cell_type": "code",
   "execution_count": 6,
   "id": "typical-nashville",
   "metadata": {},
   "outputs": [
    {
     "name": "stderr",
     "output_type": "stream",
     "text": [
      "100%|██████████| 100/100 [00:25<00:00,  3.99it/s]\n"
     ]
    },
    {
     "data": {
      "text/plain": [
       "FuzzyInductor(c=1, k=GaussianKernel(), f=ExponentialFuzzifier(), solver=TensorFlowSolver())"
      ]
     },
     "execution_count": 6,
     "metadata": {},
     "output_type": "execute_result"
    }
   ],
   "source": [
    "fi.fit(iris_X, iris_setosa) #fi impara iris_X con il confronto con le etichette vere"
   ]
  },
  {
   "cell_type": "code",
   "execution_count": 7,
   "id": "driven-bobby",
   "metadata": {},
   "outputs": [
    {
     "name": "stdout",
     "output_type": "stream",
     "text": [
      "5.324100848710674e-08\n"
     ]
    }
   ],
   "source": [
    "#calcolo rmse val atteso con iris_setosa, e valori quelli che trovo con il predict di fi\n",
    "\n",
    "rmse_tensorflow = mean_squared_error(iris_setosa, fi.predict(iris_X), squared=False)"
   ]
  },
  {
   "cell_type": "code",
   "execution_count": 8,
   "id": "amended-gates",
   "metadata": {},
   "outputs": [],
   "source": [
    "#salvare distanza tra (rmse gurobi) e (rmse tensorFlow)\n",
    "import math as mt\n",
    "\n",
    "distance = mt.fabs((rmse_tensorflow - rmse_gurobi))\n"
   ]
  },
  {
   "cell_type": "code",
   "execution_count": 9,
   "id": "royal-surname",
   "metadata": {},
   "outputs": [],
   "source": [
    "#salvare coppia num iterazioni - distanza\n",
    "\n",
    "coppie = [(n_iter, distance)]"
   ]
  },
  {
   "cell_type": "code",
   "execution_count": 13,
   "id": "postal-terrace",
   "metadata": {},
   "outputs": [],
   "source": [
    "\n",
    "n_iter  = 200\n",
    "\n",
    "try:\n",
    "    fi = FuzzyInductor(solver=TensorFlowSolver(n_iter = n_iter))\n",
    "except (ModuleNotFoundError, ValueError):\n",
    "    print('Tensorflow not available')"
   ]
  },
  {
   "cell_type": "code",
   "execution_count": 14,
   "id": "biological-demand",
   "metadata": {},
   "outputs": [
    {
     "name": "stderr",
     "output_type": "stream",
     "text": [
      "100%|██████████| 200/200 [00:51<00:00,  3.88it/s]\n"
     ]
    },
    {
     "data": {
      "text/plain": [
       "FuzzyInductor(c=1, k=GaussianKernel(), f=ExponentialFuzzifier(), solver=TensorFlowSolver(, n_iter=100))"
      ]
     },
     "execution_count": 14,
     "metadata": {},
     "output_type": "execute_result"
    }
   ],
   "source": [
    "fi.fit(iris_X, iris_setosa)"
   ]
  },
  {
   "cell_type": "code",
   "execution_count": 15,
   "id": "neural-champion",
   "metadata": {},
   "outputs": [],
   "source": [
    "rmse_tensorflow = mean_squared_error(iris_setosa, fi.predict(iris_X), squared=False)"
   ]
  },
  {
   "cell_type": "code",
   "execution_count": 16,
   "id": "miniature-ridge",
   "metadata": {},
   "outputs": [],
   "source": [
    "distance = mt.fabs((rmse_tensorflow - rmse_gurobi))"
   ]
  },
  {
   "cell_type": "code",
   "execution_count": 17,
   "id": "dressed-potato",
   "metadata": {},
   "outputs": [],
   "source": [
    "coppie.append((n_iter, distance))"
   ]
  },
  {
   "cell_type": "code",
   "execution_count": 19,
   "id": "characteristic-tuner",
   "metadata": {},
   "outputs": [],
   "source": [
    "\n",
    "n_iter  = 300\n",
    "\n",
    "try:\n",
    "    fi = FuzzyInductor(solver=TensorFlowSolver(n_iter = n_iter))\n",
    "except (ModuleNotFoundError, ValueError):\n",
    "    print('Tensorflow not available')"
   ]
  },
  {
   "cell_type": "code",
   "execution_count": 20,
   "id": "destroyed-beaver",
   "metadata": {},
   "outputs": [
    {
     "name": "stderr",
     "output_type": "stream",
     "text": [
      "100%|██████████| 300/300 [01:18<00:00,  3.84it/s]\n"
     ]
    },
    {
     "data": {
      "text/plain": [
       "FuzzyInductor(c=1, k=GaussianKernel(), f=ExponentialFuzzifier(), solver=TensorFlowSolver(, n_iter=100))"
      ]
     },
     "execution_count": 20,
     "metadata": {},
     "output_type": "execute_result"
    }
   ],
   "source": [
    "fi.fit(iris_X, iris_setosa)"
   ]
  },
  {
   "cell_type": "code",
   "execution_count": 21,
   "id": "loving-minority",
   "metadata": {},
   "outputs": [],
   "source": [
    "rmse_tensorflow = mean_squared_error(iris_setosa, fi.predict(iris_X), squared=False)"
   ]
  },
  {
   "cell_type": "code",
   "execution_count": 22,
   "id": "apart-constitution",
   "metadata": {},
   "outputs": [],
   "source": [
    "distance = mt.fabs((rmse_tensorflow - rmse_gurobi))"
   ]
  },
  {
   "cell_type": "code",
   "execution_count": 23,
   "id": "anticipated-investing",
   "metadata": {},
   "outputs": [],
   "source": [
    "coppie.append((n_iter, distance))"
   ]
  },
  {
   "cell_type": "code",
   "execution_count": 24,
   "id": "particular-outside",
   "metadata": {},
   "outputs": [],
   "source": [
    "\n",
    "n_iter  = 400\n",
    "\n",
    "try:\n",
    "    fi = FuzzyInductor(solver=TensorFlowSolver(n_iter = n_iter))\n",
    "except (ModuleNotFoundError, ValueError):\n",
    "    print('Tensorflow not available')"
   ]
  },
  {
   "cell_type": "code",
   "execution_count": 25,
   "id": "german-corpus",
   "metadata": {},
   "outputs": [
    {
     "name": "stderr",
     "output_type": "stream",
     "text": [
      "100%|██████████| 400/400 [01:43<00:00,  3.88it/s]\n"
     ]
    },
    {
     "data": {
      "text/plain": [
       "FuzzyInductor(c=1, k=GaussianKernel(), f=ExponentialFuzzifier(), solver=TensorFlowSolver(, n_iter=100))"
      ]
     },
     "execution_count": 25,
     "metadata": {},
     "output_type": "execute_result"
    }
   ],
   "source": [
    "fi.fit(iris_X, iris_setosa)"
   ]
  },
  {
   "cell_type": "code",
   "execution_count": 26,
   "id": "buried-registrar",
   "metadata": {},
   "outputs": [],
   "source": [
    "rmse_tensorflow = mean_squared_error(iris_setosa, fi.predict(iris_X), squared=False)"
   ]
  },
  {
   "cell_type": "code",
   "execution_count": 27,
   "id": "played-interstate",
   "metadata": {},
   "outputs": [],
   "source": [
    "distance = mt.fabs((rmse_tensorflow - rmse_gurobi))"
   ]
  },
  {
   "cell_type": "code",
   "execution_count": 28,
   "id": "intermediate-cathedral",
   "metadata": {},
   "outputs": [],
   "source": [
    "coppie.append((n_iter, distance))"
   ]
  },
  {
   "cell_type": "code",
   "execution_count": 29,
   "id": "brief-projection",
   "metadata": {},
   "outputs": [],
   "source": [
    "\n",
    "n_iter  = 500\n",
    "\n",
    "try:\n",
    "    fi = FuzzyInductor(solver=TensorFlowSolver(n_iter = n_iter))\n",
    "except (ModuleNotFoundError, ValueError):\n",
    "    print('Tensorflow not available')"
   ]
  },
  {
   "cell_type": "code",
   "execution_count": 30,
   "id": "continuing-placement",
   "metadata": {},
   "outputs": [
    {
     "name": "stderr",
     "output_type": "stream",
     "text": [
      "100%|██████████| 500/500 [02:05<00:00,  3.99it/s]\n"
     ]
    },
    {
     "data": {
      "text/plain": [
       "FuzzyInductor(c=1, k=GaussianKernel(), f=ExponentialFuzzifier(), solver=TensorFlowSolver(, n_iter=100))"
      ]
     },
     "execution_count": 30,
     "metadata": {},
     "output_type": "execute_result"
    }
   ],
   "source": [
    "fi.fit(iris_X, iris_setosa)"
   ]
  },
  {
   "cell_type": "code",
   "execution_count": 31,
   "id": "developmental-migration",
   "metadata": {},
   "outputs": [],
   "source": [
    "rmse_tensorflow = mean_squared_error(iris_setosa, fi.predict(iris_X), squared=False)"
   ]
  },
  {
   "cell_type": "code",
   "execution_count": 32,
   "id": "aerial-eugene",
   "metadata": {},
   "outputs": [],
   "source": [
    "distance = mt.fabs((rmse_tensorflow - rmse_gurobi))"
   ]
  },
  {
   "cell_type": "code",
   "execution_count": 33,
   "id": "worth-quest",
   "metadata": {},
   "outputs": [],
   "source": [
    "coppie.append((n_iter, distance))"
   ]
  },
  {
   "cell_type": "code",
   "execution_count": 34,
   "id": "refined-summer",
   "metadata": {},
   "outputs": [],
   "source": [
    "\n",
    "n_iter  = 600\n",
    "\n",
    "try:\n",
    "    fi = FuzzyInductor(solver=TensorFlowSolver(n_iter = n_iter))\n",
    "except (ModuleNotFoundError, ValueError):\n",
    "    print('Tensorflow not available')"
   ]
  },
  {
   "cell_type": "code",
   "execution_count": 35,
   "id": "oriented-polls",
   "metadata": {},
   "outputs": [
    {
     "name": "stderr",
     "output_type": "stream",
     "text": [
      "100%|██████████| 600/600 [02:30<00:00,  4.00it/s]\n"
     ]
    },
    {
     "data": {
      "text/plain": [
       "FuzzyInductor(c=1, k=GaussianKernel(), f=ExponentialFuzzifier(), solver=TensorFlowSolver(, n_iter=100))"
      ]
     },
     "execution_count": 35,
     "metadata": {},
     "output_type": "execute_result"
    }
   ],
   "source": [
    "fi.fit(iris_X, iris_setosa)"
   ]
  },
  {
   "cell_type": "code",
   "execution_count": 36,
   "id": "distant-universal",
   "metadata": {},
   "outputs": [],
   "source": [
    "rmse_tensorflow = mean_squared_error(iris_setosa, fi.predict(iris_X), squared=False)"
   ]
  },
  {
   "cell_type": "code",
   "execution_count": 37,
   "id": "interim-douglas",
   "metadata": {},
   "outputs": [],
   "source": [
    "distance = mt.fabs((rmse_tensorflow - rmse_gurobi))"
   ]
  },
  {
   "cell_type": "code",
   "execution_count": 38,
   "id": "later-preparation",
   "metadata": {},
   "outputs": [],
   "source": [
    "coppie.append((n_iter, distance))"
   ]
  },
  {
   "cell_type": "code",
   "execution_count": 42,
   "id": "brief-rover",
   "metadata": {},
   "outputs": [
    {
     "name": "stderr",
     "output_type": "stream",
     "text": [
      "100%|██████████| 700/700 [03:00<00:00,  3.87it/s]\n"
     ]
    }
   ],
   "source": [
    "\n",
    "n_iter  = 700\n",
    "\n",
    "try:\n",
    "    fi = FuzzyInductor(solver=TensorFlowSolver(n_iter = n_iter))\n",
    "except (ModuleNotFoundError, ValueError):\n",
    "    print('Tensorflow not available')\n",
    "\n",
    "fi.fit(iris_X, iris_setosa)\n",
    "\n",
    "rmse_tensorflow = mean_squared_error(iris_setosa, fi.predict(iris_X), squared=False)\n",
    "\n",
    "distance = mt.fabs((rmse_tensorflow - rmse_gurobi))\n",
    "\n",
    "coppie.append((n_iter, distance))"
   ]
  },
  {
   "cell_type": "code",
   "execution_count": 43,
   "id": "pressing-greeting",
   "metadata": {},
   "outputs": [
    {
     "name": "stderr",
     "output_type": "stream",
     "text": [
      "100%|██████████| 800/800 [03:23<00:00,  3.93it/s]\n"
     ]
    }
   ],
   "source": [
    "\n",
    "n_iter  = 800\n",
    "\n",
    "try:\n",
    "    fi = FuzzyInductor(solver=TensorFlowSolver(n_iter = n_iter))\n",
    "except (ModuleNotFoundError, ValueError):\n",
    "    print('Tensorflow not available')\n",
    "\n",
    "fi.fit(iris_X, iris_setosa)\n",
    "\n",
    "rmse_tensorflow = mean_squared_error(iris_setosa, fi.predict(iris_X), squared=False)\n",
    "\n",
    "distance = mt.fabs((rmse_tensorflow - rmse_gurobi))\n",
    "\n",
    "coppie.append((n_iter, distance))"
   ]
  },
  {
   "cell_type": "code",
   "execution_count": 44,
   "id": "detailed-victim",
   "metadata": {},
   "outputs": [
    {
     "name": "stderr",
     "output_type": "stream",
     "text": [
      "100%|██████████| 900/900 [03:40<00:00,  4.07it/s]\n"
     ]
    }
   ],
   "source": [
    "\n",
    "n_iter  = 900\n",
    "\n",
    "try:\n",
    "    fi = FuzzyInductor(solver=TensorFlowSolver(n_iter = n_iter))\n",
    "except (ModuleNotFoundError, ValueError):\n",
    "    print('Tensorflow not available')\n",
    "\n",
    "fi.fit(iris_X, iris_setosa)\n",
    "\n",
    "rmse_tensorflow = mean_squared_error(iris_setosa, fi.predict(iris_X), squared=False)\n",
    "\n",
    "distance = mt.fabs((rmse_tensorflow - rmse_gurobi))\n",
    "\n",
    "coppie.append((n_iter, distance))"
   ]
  },
  {
   "cell_type": "code",
   "execution_count": 45,
   "id": "amber-planning",
   "metadata": {},
   "outputs": [
    {
     "name": "stderr",
     "output_type": "stream",
     "text": [
      "100%|██████████| 1000/1000 [04:34<00:00,  3.64it/s]\n"
     ]
    }
   ],
   "source": [
    "\n",
    "n_iter  = 1000\n",
    "\n",
    "try:\n",
    "    fi = FuzzyInductor(solver=TensorFlowSolver(n_iter = n_iter))\n",
    "except (ModuleNotFoundError, ValueError):\n",
    "    print('Tensorflow not available')\n",
    "\n",
    "fi.fit(iris_X, iris_setosa)\n",
    "\n",
    "rmse_tensorflow = mean_squared_error(iris_setosa, fi.predict(iris_X), squared=False)\n",
    "\n",
    "distance = mt.fabs((rmse_tensorflow - rmse_gurobi))\n",
    "\n",
    "coppie.append((n_iter, distance))"
   ]
  },
  {
   "cell_type": "code",
   "execution_count": 46,
   "id": "metropolitan-passage",
   "metadata": {},
   "outputs": [
    {
     "name": "stdout",
     "output_type": "stream",
     "text": [
      "[(100, 1.6847990905837912e-07), (200, 0.08164943639238058), (300, 1.2676816720908467e-07), (400, 9.014027398785548e-08), (500, 1.0332737152169392e-07), (600, 0.07534453821411716), (600, 0.14195008267552878), (700, 0.17330555568479544), (800, 0.23717560697015302), (900, 0.28181801018746405), (1000, 0.2789568752484152)]\n",
      "[100, 200, 300, 400, 500, 600, 600, 700, 800, 900, 1000]\n"
     ]
    },
    {
     "data": {
      "image/png": "[encoded data removed]",
      "text/plain": [
       "<Figure size 432x288 with 1 Axes>"
      ]
     },
     "metadata": {
      "needs_background": "light"
     },
     "output_type": "display_data"
    }
   ],
   "source": [
    "x_val = [x[0] for x in coppie]\n",
    "y_val = [x[1] for x in coppie]\n",
    "\n",
    "print (coppie)\n",
    "\n",
    "print (x_val)\n",
    "\n",
    "plt.plot(x_val,y_val)\n",
    "plt.plot(x_val,y_val,'or')\n",
    "plt.show()"
   ]
  }
 ],
 "metadata": {
  "kernelspec": {
   "display_name": "Python 3",
   "language": "python",
   "name": "python3"
  },
  "language_info": {
   "codemirror_mode": {
    "name": "ipython",
    "version": 3
   },
   "file_extension": ".py",
   "mimetype": "text/x-python",
   "name": "python",
   "nbconvert_exporter": "python",
   "pygments_lexer": "ipython3",
   "version": "3.8.5"
  }
 },
 "nbformat": 4,
 "nbformat_minor": 5
}
