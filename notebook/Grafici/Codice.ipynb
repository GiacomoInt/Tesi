{
 "cells": [
  {
   "cell_type": "code",
   "execution_count": null,
   "id": "junior-illinois",
   "metadata": {},
   "outputs": [],
   "source": [
    "#import e parsing file di log\n",
    "\n",
    "def lettura_log(path):\n",
    "\n",
    "    file = open(path, 'r')\n",
    "    Lines = file.readlines()\n",
    "\n",
    "    coppie = []\n",
    "\n",
    "    for line in Lines:\n",
    "        if 'COUPLE(DISTANCE RMSE)' in line:\n",
    "            split = line.split(':')\n",
    "            s = split[4].replace('[','')\n",
    "            s = s.replace('(','')\n",
    "            s = s.replace(')','')\n",
    "            s = s.replace(']','')\n",
    "            s = s.split(',')\n",
    "            a = int(s[0])\n",
    "            b = float(s[1])\n",
    "            coppie.append((a,b))\n",
    "\n",
    "    return coppie\n"
   ]
  },
  {
   "cell_type": "code",
   "execution_count": null,
   "id": "engaged-chile",
   "metadata": {},
   "outputs": [],
   "source": [
    "#import e parsing file di log\n",
    "\n",
    "def lettura_log(path):\n",
    "\n",
    "    file = open(path, 'r')\n",
    "    Lines = file.readlines()\n",
    "\n",
    "    coppie = []\n",
    "\n",
    "    for line in Lines:\n",
    "        if 'COUPLE(DISTANCE RMSE)' in line:\n",
    "            split = line.split(':')\n",
    "            s = split[3].replace('[','')\n",
    "            s = s.replace('(','')\n",
    "            s = s.replace(')','')\n",
    "            s = s.replace(']','')\n",
    "            s = s.split(',')\n",
    "            a = int(s[0])\n",
    "            b = float(s[1])\n",
    "            coppie.append((a,b))\n",
    "\n",
    "    return coppie"
   ]
  },
  {
   "cell_type": "code",
   "execution_count": null,
   "id": "single-links",
   "metadata": {},
   "outputs": [],
   "source": [
    "#import e parsing file di log\n",
    "\n",
    "def lettura_log(path):\n",
    "\n",
    "    file = open(path, 'r')\n",
    "    Lines = file.readlines()\n",
    "\n",
    "    coppie = []\n",
    "\n",
    "    for line in Lines:\n",
    "        if 'COUPLE(N_ITER,DISTANCE RMSE)' in line:\n",
    "            split = line.split(':')\n",
    "            s = split[3].replace('[','')\n",
    "            s = s.replace('(','')\n",
    "            s = s.replace(')','')\n",
    "            s = s.replace(']','')\n",
    "            s = s.split(',')\n",
    "            a = int(s[0])\n",
    "            b = float(s[1])\n",
    "            coppie.append((a,b))\n",
    "\n",
    "    return coppie"
   ]
  },
  {
   "cell_type": "code",
   "execution_count": null,
   "id": "proper-correction",
   "metadata": {},
   "outputs": [],
   "source": [
    "#funzione per graficare\n",
    "\n",
    "import matplotlib.pyplot as plt\n",
    "\n",
    "def grafico(path):\n",
    "\n",
    "    coppie = lettura_log(path)\n",
    "\n",
    "    x_val = [x[0] for x in coppie]\n",
    "    y_val = [x[1] for x in coppie]\n",
    "\n",
    "    fig, ax = plt.subplots(figsize=(10, 5))\n",
    "\n",
    "    ax.plot(x_val,y_val)\n",
    "    ax.plot(x_val,y_val,'or')\n",
    "\n",
    "    ax.set_ylabel('RMSE Distance (Gurobi -TensorFlow)')\n",
    "    ax.set_xlabel('Number of Iteration')\n",
    "\n",
    "    return plt.show()"
   ]
  }
 ],
 "metadata": {
  "kernelspec": {
   "display_name": "Python 3",
   "language": "python",
   "name": "python3"
  },
  "language_info": {
   "codemirror_mode": {
    "name": "ipython",
    "version": 3
   },
   "file_extension": ".py",
   "mimetype": "text/x-python",
   "name": "python",
   "nbconvert_exporter": "python",
   "pygments_lexer": "ipython3",
   "version": "3.8.5"
  }
 },
 "nbformat": 4,
 "nbformat_minor": 5
}
