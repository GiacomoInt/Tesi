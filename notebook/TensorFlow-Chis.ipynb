{
 "cells": [
  {
   "cell_type": "code",
   "execution_count": 1,
   "id": "unlikely-apple",
   "metadata": {},
   "outputs": [],
   "source": [
    "import logging\n",
    "import sklearn.datasets as ds\n",
    "import pandas as pd\n",
    "import numpy as np\n",
    "import math as mt\n",
    "\n",
    "\n",
    "from sklearn.metrics import mean_squared_error\n",
    "from mulearn import FuzzyInductor\n",
    "from mulearn.optimization import TensorFlowSolver\n",
    "from mulearn.kernel import GaussianKernel\n",
    "\n",
    "logger = logging.getLogger()\n",
    "logger.setLevel(logging.DEBUG)\n",
    "\n",
    "\n",
    "def create_dataset(name):\n",
    "\n",
    "    #carico il dataset.\n",
    "    iris_X, iris_y = ds.load_iris(return_X_y=True)  # In iris_X matrice con i quattro valori per oggetto\n",
    "                                                    # In iris_y etichette rispettive (0,1,2)\n",
    "\n",
    "    labels = (\"Setosa\", \"Versicolor\", \"Virginica\") # Creo le etichette Setosa, Versicolor e Virginica\n",
    "\n",
    "    #creo dataframe con le etichette per i valori in iris_X \n",
    "    df = pd.DataFrame(iris_X, columns=[\"Sepal length\", \"Sepal width\",\n",
    "                                       \"Petal length\", \"Petal width\"])\n",
    "\n",
    "    #per i valori di iris_y associo le rispettive etichette\n",
    "    df['Class'] = iris_y\n",
    "    df['Class'] = df['Class'].map(lambda c: labels[c])\n",
    "\n",
    "    iris_dataset = iris_y.copy()\n",
    "\n",
    "    if(name == \"Setosa\"):\n",
    "        #creo dataset iris_setosa dove le etichette 0 diventano 1 e le altre a 0        \n",
    "        iris_dataset[iris_dataset != 0] = 2\n",
    "        iris_dataset[iris_dataset == 0] = 1\n",
    "        iris_dataset[iris_dataset == 2] = 0\n",
    "\n",
    "    if(name == \"Versicolor\"):\n",
    "        iris_dataset[iris_dataset==2] = 0\n",
    "    \n",
    "    if(name == \"Virginica\"):\n",
    "        iris_dataset[iris_dataset != 2] = 0\n",
    "        iris_dataset[iris_dataset == 2] = 1\n",
    "\n",
    "\n",
    "    return iris_X, iris_dataset\n"
   ]
  },
  {
   "cell_type": "code",
   "execution_count": 2,
   "id": "little-religious",
   "metadata": {},
   "outputs": [],
   "source": [
    "def create_logger(path):   \n",
    "    \n",
    "    \n",
    "    fhandler = logging.FileHandler(filename = path)\n",
    "    \n",
    "    formatter = logging.Formatter('%(asctime)s - %(name)s - %(levelname)s - %(message)s')\n",
    "    fhandler.setFormatter(formatter)\n",
    "    \n",
    "    logger.addHandler(fhandler)  \n",
    "    \n",
    "    return fhandler"
   ]
  },
  {
   "cell_type": "code",
   "execution_count": 4,
   "id": "tired-allah",
   "metadata": {
    "scrolled": true
   },
   "outputs": [
    {
     "name": "stderr",
     "output_type": "stream",
     "text": [
      "100%|██████████| 100/100 [00:17<00:00,  5.68it/s]\n"
     ]
    },
    {
     "name": "stdout",
     "output_type": "stream",
     "text": [
      "TensorFlowSolver()\n"
     ]
    }
   ],
   "source": [
    "#handler = create_logger('./log/prova.log')\n",
    "    \n",
    "iris_X, iris_dataset = create_dataset(\"Setosa\")\n",
    "        \n",
    "    #TensoFlow prova\n",
    "\n",
    "try:\n",
    "    solver=TensorFlowSolver(n_iter=100)\n",
    "    fi = FuzzyInductor(solver=solver)\n",
    "except (ModuleNotFoundError, ValueError):\n",
    "    print('Tensorflow not available')\n",
    "    \n",
    "fi.fit(iris_X, iris_dataset) #fi impara iris_X con il confronto con le etichette vere\n",
    "    \n",
    "print(solver)\n",
    "\n",
    "\n",
    "#logger.removeHandler(handler)\n"
   ]
  },
  {
   "cell_type": "code",
   "execution_count": null,
   "id": "another-duplicate",
   "metadata": {},
   "outputs": [],
   "source": []
  }
 ],
 "metadata": {
  "kernelspec": {
   "display_name": "Python 3",
   "language": "python",
   "name": "python3"
  },
  "language_info": {
   "codemirror_mode": {
    "name": "ipython",
    "version": 3
   },
   "file_extension": ".py",
   "mimetype": "text/x-python",
   "name": "python",
   "nbconvert_exporter": "python",
   "pygments_lexer": "ipython3",
   "version": "3.8.5"
  }
 },
 "nbformat": 4,
 "nbformat_minor": 5
}
