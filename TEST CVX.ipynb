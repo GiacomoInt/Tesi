{
 "cells": [
  {
   "cell_type": "code",
   "execution_count": 1,
   "id": "engaging-basic",
   "metadata": {},
   "outputs": [],
   "source": [
    "import sklearn.datasets as ds\n",
    "import pandas as pd\n",
    "import numpy as np\n",
    "import math as mt\n",
    "\n",
    "from itertools import product\n",
    "from sklearn.metrics import mean_squared_error\n",
    "from mulearn import FuzzyInductor\n",
    "from mulearn.optimization import TensorFlowSolver\n",
    "from mulearn.kernel import GaussianKernel\n",
    "from mulearn.optimization import CVXPYSolver"
   ]
  },
  {
   "cell_type": "code",
   "execution_count": 2,
   "id": "right-hands",
   "metadata": {},
   "outputs": [],
   "source": [
    "def create_dataset(name):\n",
    "\n",
    "    #load dataset, in iris_X values, in iris_y labels 0 1 2\n",
    "    iris_X, iris_y = ds.load_iris(return_X_y=True)  \n",
    "\n",
    "    labels = (\"Setosa\", \"Versicolor\", \"Virginica\") \n",
    "\n",
    "    #dataframe with correct labels for respective values\n",
    "    df = pd.DataFrame(iris_X, columns=[\"Sepal length\", \"Sepal width\",\n",
    "                                       \"Petal length\", \"Petal width\"])\n",
    "\n",
    "    #associating \n",
    "    df['Class'] = iris_y\n",
    "    df['Class'] = df['Class'].map(lambda c: labels[c])\n",
    "\n",
    "    #dataset copy for labels 0 1\n",
    "    selected_iris_dataset = iris_y.copy()\n",
    "\n",
    "    #dataset selected with labels\n",
    "    if(name == \"Setosa\"):        \n",
    "        selected_iris_dataset[selected_iris_dataset != 0] = 2\n",
    "        selected_iris_dataset[selected_iris_dataset == 0] = 1\n",
    "        selected_iris_dataset[selected_iris_dataset == 2] = 0\n",
    "    elif(name == \"Versicolor\"):\n",
    "        selected_iris_dataset[selected_iris_dataset==2] = 0    \n",
    "    elif(name == \"Virginica\"):\n",
    "        selected_iris_dataset[selected_iris_dataset != 2] = 0\n",
    "        selected_iris_dataset[selected_iris_dataset == 2] = 1\n",
    "\n",
    "\n",
    "    return iris_X, selected_iris_dataset"
   ]
  },
  {
   "cell_type": "code",
   "execution_count": 3,
   "id": "blond-defeat",
   "metadata": {},
   "outputs": [],
   "source": [
    "def create_handler(path):   \n",
    "    \n",
    "    \n",
    "    fhandler = logging.FileHandler(filename = path)\n",
    "    \n",
    "    formatter = logging.Formatter('%(asctime)s - %(name)s - %(levelname)s - %(message)s')\n",
    "    fhandler.setFormatter(formatter)\n",
    "    \n",
    "    logger.addHandler(fhandler)  \n",
    "    \n",
    "    return fhandler"
   ]
  },
  {
   "cell_type": "code",
   "execution_count": 4,
   "id": "boxed-princeton",
   "metadata": {},
   "outputs": [],
   "source": [
    "def main(nome):  \n",
    "    \n",
    "    '''\n",
    "    handler = create_handler(f\"../../../log/Prove-6/Different-Optimizer/{nome}_c{str(c).replace('.','')}\"\n",
    "                             f\"_sigma{str(sigma).replace('.','')}\"\n",
    "                             f\"_penalization{str(penalization).replace('.','')}\"\n",
    "                             f\"_{str(optimizer)}.log\")\n",
    "    \n",
    "    #salvo i parametri\n",
    "    logger.info(f\"PARAMETRI DI PARTENZA: nome={nome}, c={c}, sigma={sigma}, penalization={penalization},\"\n",
    "                f\"optimizer={optimizer}\")'''\n",
    "    \n",
    "\n",
    "    iris_X, selected_iris_dataset = create_dataset(nome)\n",
    "\n",
    "    # Gurobi solver & fit\n",
    "    fi = FuzzyInductor()\n",
    "    \n",
    "    \n",
    "    '''start = time.time()'''\n",
    "    fi.fit(iris_X, selected_iris_dataset)\n",
    "    '''end = time.time()'''\n",
    "    \n",
    "    # rmse gurobi\n",
    "    gurobi_chis = fi.chis_\n",
    "    '''logger.info(f\"GUROBI_CHIS: {gurobi_chis}\")\n",
    "    logger.info(f\"GUROBI_START: {start}\")\n",
    "    logger.info(f\"GUROBI_END: {end}\")\n",
    "    logger.info(f\"TEMPO_ESECUZIONE GUROBI(IN EPOCH): {(end-start)}\")'''\n",
    "    fi = FuzzyInductor(solver=CVXPYSolver())\n",
    "    \n",
    "    fi.fit(iris_X, selected_iris_dataset)\n",
    "    \n",
    "    cvxpy_chis = fi.chis_\n",
    "    \n",
    "    rmse_distance = abs(mean_squared_error(gurobi_chis, cvxpy_chis, squared=False))\n",
    "\n",
    "    '''logger.removeHandler(handler)'''\n",
    "    \n",
    "    return rmse_distance\n",
    "    \n"
   ]
  },
  {
   "cell_type": "code",
   "execution_count": 5,
   "id": "seasonal-differential",
   "metadata": {},
   "outputs": [
    {
     "output_type": "execute_result",
     "data": {
      "text/plain": [
       "0.02366219454528531"
      ]
     },
     "metadata": {},
     "execution_count": 5
    }
   ],
   "source": [
    "main(\"Setosa\")"
   ]
  },
  {
   "cell_type": "code",
   "execution_count": null,
   "metadata": {},
   "outputs": [],
   "source": []
  }
 ],
 "metadata": {
  "kernelspec": {
   "display_name": "Python 3",
   "language": "python",
   "name": "python3"
  },
  "language_info": {
   "codemirror_mode": {
    "name": "ipython",
    "version": 3
   },
   "file_extension": ".py",
   "mimetype": "text/x-python",
   "name": "python",
   "nbconvert_exporter": "python",
   "pygments_lexer": "ipython3",
   "version": "3.8.5"
  }
 },
 "nbformat": 4,
 "nbformat_minor": 5
}